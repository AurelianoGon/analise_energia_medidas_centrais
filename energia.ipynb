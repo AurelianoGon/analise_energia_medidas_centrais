{
 "cells": [
  {
   "cell_type": "markdown",
   "id": "7d7a37da-9914-40c8-aa01-202321a5c005",
   "metadata": {},
   "source": [
    "## Análise Descritiva"
   ]
  },
  {
   "cell_type": "markdown",
   "id": "998593d0-f052-4eed-80c2-8051b5b9746c",
   "metadata": {},
   "source": [
    "#### Segundo dados de uma distribuidora de energia elétrica de uma grande cidade brasileira o consumo em, Kwh, de energia elétrica durante o mês de dezembro de 2024 para uma amostra aleatória de 50 apartamentos de dois quartos em um determinado condomínio residencial foi de: "
   ]
  },
  {
   "cell_type": "code",
   "execution_count": 1,
   "id": "c68696c1-6cf3-411c-a646-32d36b76df90",
   "metadata": {},
   "outputs": [],
   "source": [
    "# Importar bibliotecas\n",
    "import pandas as pd"
   ]
  },
  {
   "cell_type": "code",
   "execution_count": 2,
   "id": "c5f3cee2-d517-40a7-b733-e0705b432c87",
   "metadata": {},
   "outputs": [],
   "source": [
    "# Dados fornecidos do consumo de energia elétrica em Kwh\n",
    "consumo = [ 95, 170, 200, 176, 145, 105, 152, 198, 128, 85,\n",
    "    158, 187, 91, 115, 170, 110, 150, 212, 128, 163,\n",
    "    141, 152, 210, 170, 120, 128, 120, 120, 168, 108,\n",
    "    90, 165, 151, 155, 129, 144, 189, 167, 140, 154,\n",
    "    109, 117, 180, 150, 115, 130, 170, 130, 120, 158]"
   ]
  },
  {
   "cell_type": "code",
   "execution_count": 3,
   "id": "ea4db4dc-63b9-46d4-85be-e2d10b98d2cc",
   "metadata": {},
   "outputs": [],
   "source": [
    "# Criando o dataframe\n",
    "dados = pd.DataFrame(consumo, columns=['consumo_Kwh'])"
   ]
  },
  {
   "cell_type": "code",
   "execution_count": 4,
   "id": "556df7de-502b-4679-a00d-42b712468b89",
   "metadata": {},
   "outputs": [
    {
     "data": {
      "text/html": [
       "<div>\n",
       "<style scoped>\n",
       "    .dataframe tbody tr th:only-of-type {\n",
       "        vertical-align: middle;\n",
       "    }\n",
       "\n",
       "    .dataframe tbody tr th {\n",
       "        vertical-align: top;\n",
       "    }\n",
       "\n",
       "    .dataframe thead th {\n",
       "        text-align: right;\n",
       "    }\n",
       "</style>\n",
       "<table border=\"1\" class=\"dataframe\">\n",
       "  <thead>\n",
       "    <tr style=\"text-align: right;\">\n",
       "      <th></th>\n",
       "      <th>consumo_Kwh</th>\n",
       "    </tr>\n",
       "  </thead>\n",
       "  <tbody>\n",
       "    <tr>\n",
       "      <th>0</th>\n",
       "      <td>95</td>\n",
       "    </tr>\n",
       "    <tr>\n",
       "      <th>1</th>\n",
       "      <td>170</td>\n",
       "    </tr>\n",
       "    <tr>\n",
       "      <th>2</th>\n",
       "      <td>200</td>\n",
       "    </tr>\n",
       "    <tr>\n",
       "      <th>3</th>\n",
       "      <td>176</td>\n",
       "    </tr>\n",
       "    <tr>\n",
       "      <th>4</th>\n",
       "      <td>145</td>\n",
       "    </tr>\n",
       "  </tbody>\n",
       "</table>\n",
       "</div>"
      ],
      "text/plain": [
       "   consumo_Kwh\n",
       "0           95\n",
       "1          170\n",
       "2          200\n",
       "3          176\n",
       "4          145"
      ]
     },
     "execution_count": 4,
     "metadata": {},
     "output_type": "execute_result"
    }
   ],
   "source": [
    "# Mostrar as 5 primieras linhas\n",
    "dados.head()"
   ]
  },
  {
   "cell_type": "markdown",
   "id": "63a46b90-1893-4b9a-8bde-aa6c07faac15",
   "metadata": {},
   "source": [
    "### Agrupar os dados em 10 classes e gerar uma tabela de frequência "
   ]
  },
  {
   "cell_type": "code",
   "execution_count": 6,
   "id": "0e81226c-853d-4da5-86fd-6bf62869fbd7",
   "metadata": {},
   "outputs": [],
   "source": [
    "# Determinando o número de classes (10) e o intervalo de classe.\n",
    "# Definir o intervalo de 85 até o va,or máximo para dividir em  classes\n",
    "\n",
    "n_classes = 10\n",
    "min_val = dados['consumo_Kwh'].min()  # Valor mínimo\n",
    "max_val = dados['consumo_Kwh'].max()  # Valor máximo"
   ]
  },
  {
   "cell_type": "code",
   "execution_count": 7,
   "id": "398fc3d4-e3a3-4eed-8cff-13bd717ef511",
   "metadata": {},
   "outputs": [],
   "source": [
    "# Usar pd.cut() para dividir os dados em 10 classes\n",
    "intervalos = pd.cut(dados['consumo_Kwh'], bins=n_classes, right=True)"
   ]
  },
  {
   "cell_type": "code",
   "execution_count": 8,
   "id": "f20ddf1f-c38f-4d39-903e-867cc0a3bf09",
   "metadata": {},
   "outputs": [
    {
     "name": "stderr",
     "output_type": "stream",
     "text": [
      "C:\\Users\\brunn\\AppData\\Local\\Temp\\ipykernel_10324\\2110721804.py:2: FutureWarning: pandas.value_counts is deprecated and will be removed in a future version. Use pd.Series(obj).value_counts() instead.\n",
      "  tabela_freq = pd.value_counts(intervalos, sort=False)\n"
     ]
    }
   ],
   "source": [
    "# Ferar a tabela de frequência\n",
    "tabela_freq = pd.value_counts(intervalos, sort=False)"
   ]
  },
  {
   "cell_type": "code",
   "execution_count": 9,
   "id": "084a51bc-fa36-4f32-8b7c-fa9d84913b96",
   "metadata": {},
   "outputs": [
    {
     "name": "stdout",
     "output_type": "stream",
     "text": [
      "consumo_Kwh\n",
      "(84.873, 97.7]    4\n",
      "(97.7, 110.4]     4\n",
      "(110.4, 123.1]    7\n",
      "(123.1, 135.8]    6\n",
      "(135.8, 148.5]    4\n",
      "(148.5, 161.2]    9\n",
      "(161.2, 173.9]    8\n",
      "(173.9, 186.6]    2\n",
      "(186.6, 199.3]    3\n",
      "(199.3, 212.0]    3\n",
      "Name: count, dtype: int64\n"
     ]
    }
   ],
   "source": [
    "# Printar a tabela\n",
    "print(tabela_freq)"
   ]
  },
  {
   "cell_type": "code",
   "execution_count": 17,
   "id": "9e3267da-2026-44f8-93dd-590650f97d97",
   "metadata": {},
   "outputs": [],
   "source": [
    "import pandas as pd\n",
    "import matplotlib.pyplot as plt\n",
    "import seaborn as sns"
   ]
  },
  {
   "cell_type": "code",
   "execution_count": 19,
   "id": "dabac41e-7b5e-44c2-bd2a-0e8d21e7c8e5",
   "metadata": {},
   "outputs": [
    {
     "data": {
      "image/png": "[encoded data removed]",
      "text/plain": [
       "<Figure size 1000x600 with 1 Axes>"
      ]
     },
     "metadata": {},
     "output_type": "display_data"
    }
   ],
   "source": [
    "# 1. Histograma\n",
    "plt.figure(figsize=(10, 6))\n",
    "\n",
    "plt.hist(dados['consumo_Kwh'], bins=10, edgecolor='black', alpha=0.7)\n",
    "plt.title('Histograma de Consumo de Energia Elétrica')\n",
    "plt.xlabel('Consumo (Kwh)')\n",
    "plt.ylabel('Frequência')\n",
    "plt.grid(True)\n",
    "plt.show()"
   ]
  },
  {
   "cell_type": "code",
   "execution_count": 21,
   "id": "b619d878-3e73-4899-8724-7518b2c9bff5",
   "metadata": {},
   "outputs": [
    {
     "data": {
      "text/plain": [
       "<Figure size 1000x600 with 0 Axes>"
      ]
     },
     "metadata": {},
     "output_type": "display_data"
    },
    {
     "data": {
      "image/png": "[encoded data removed]",
      "text/plain": [
       "<Figure size 640x480 with 1 Axes>"
      ]
     },
     "metadata": {},
     "output_type": "display_data"
    }
   ],
   "source": [
    "# Gráfico de barras para a tabela de frequências\n",
    "plt.figure(figsize=(10, 6))\n",
    "\n",
    "tabela_freq.plot(kind='bar', color='lightgreen', edgecolor='black')\n",
    "plt.title('Frequência por Intervalo de Consumo')\n",
    "plt.xlabel('Intervalos de Consumo (Kwh)')\n",
    "plt.ylabel('Frequência')\n",
    "plt.legend(title='Legenda', loc='upper right')  # Legenda\n",
    "plt.xticks(rotation=45)\n",
    "plt.show()"
   ]
  },
  {
   "cell_type": "markdown",
   "id": "0053d90a-21d6-43dd-8880-e5b231f6ccaf",
   "metadata": {},
   "source": [
    "## Medidas de Tendência Central"
   ]
  },
  {
   "cell_type": "markdown",
   "id": "33e05d73-0808-4a32-af70-60fa6a5eb724",
   "metadata": {},
   "source": [
    "### Média"
   ]
  },
  {
   "cell_type": "code",
   "execution_count": 23,
   "id": "8daf1419-0734-4cb0-be89-bfca1b638e0c",
   "metadata": {},
   "outputs": [
    {
     "name": "stdout",
     "output_type": "stream",
     "text": [
      "Média: 144.76 Kwh\n"
     ]
    }
   ],
   "source": [
    "media = dados['consumo_Kwh'].mean()\n",
    "print(f\"Média: {media:.2f} Kwh\")"
   ]
  },
  {
   "cell_type": "markdown",
   "id": "b4a8fd84-ee8f-4725-bf07-72253af2ab47",
   "metadata": {},
   "source": [
    "### Mediana"
   ]
  },
  {
   "cell_type": "code",
   "execution_count": 25,
   "id": "8d65b7af-cd1c-43b7-9b34-70d1ee9aa98f",
   "metadata": {},
   "outputs": [
    {
     "name": "stdout",
     "output_type": "stream",
     "text": [
      "Mediana: 147.50 Kwh\n"
     ]
    }
   ],
   "source": [
    "mediana = dados['consumo_Kwh'].median()\n",
    "print(f\"Mediana: {mediana:.2f} Kwh\")"
   ]
  },
  {
   "cell_type": "markdown",
   "id": "179c5720-ae36-4b2e-8c7b-cae55ed77086",
   "metadata": {},
   "source": [
    "### Moda"
   ]
  },
  {
   "cell_type": "code",
   "execution_count": 26,
   "id": "d026c49d-27ca-43f4-8c82-c8a759b8a575",
   "metadata": {},
   "outputs": [
    {
     "name": "stdout",
     "output_type": "stream",
     "text": [
      "Moda: 120.00 Kwh\n"
     ]
    }
   ],
   "source": [
    "moda = dados['consumo_Kwh'].mode()[0] #  mode() retorna uma série, então pegamos o primeiro valor\n",
    "print(f\"Moda: {moda:.2f} Kwh\")"
   ]
  },
  {
   "cell_type": "code",
   "execution_count": 27,
   "id": "0dbfbcb3-45a1-47bf-8b93-7973c7ca2cc2",
   "metadata": {},
   "outputs": [],
   "source": [
    "import numpy as np"
   ]
  },
  {
   "cell_type": "markdown",
   "id": "467d97ef-1a03-4073-a1ed-cead0864e9bf",
   "metadata": {},
   "source": [
    "### Variância"
   ]
  },
  {
   "cell_type": "code",
   "execution_count": 31,
   "id": "9782ef62-a759-4f60-8e9b-b960c10ca994",
   "metadata": {},
   "outputs": [
    {
     "name": "stdout",
     "output_type": "stream",
     "text": [
      "Variância: 1012.27 Kwh²\n"
     ]
    }
   ],
   "source": [
    "variancia = dados['consumo_Kwh'].var()\n",
    "print(f\"Variância: {variancia:.2f} Kwh²\")"
   ]
  },
  {
   "cell_type": "markdown",
   "id": "e9a18edf-bcb5-4ec0-85d8-f6851b56d553",
   "metadata": {},
   "source": [
    "### Desvio-Padrão"
   ]
  },
  {
   "cell_type": "code",
   "execution_count": 32,
   "id": "19499845-021c-4145-8c32-94cb67bc2614",
   "metadata": {},
   "outputs": [
    {
     "name": "stdout",
     "output_type": "stream",
     "text": [
      "Desvio-Padrão: 31.82 Kwh\n"
     ]
    }
   ],
   "source": [
    "desvio_padrao = dados['consumo_Kwh'].std()\n",
    "print(f\"Desvio-Padrão: {desvio_padrao:.2f} Kwh\")"
   ]
  },
  {
   "cell_type": "markdown",
   "id": "abf52f77-4336-47e8-9f7e-95777696bcef",
   "metadata": {},
   "source": [
    "### Coeficiente de Variação"
   ]
  },
  {
   "cell_type": "code",
   "execution_count": 33,
   "id": "abcb56a5-ab2d-4d68-b119-9361f5075b15",
   "metadata": {},
   "outputs": [
    {
     "name": "stdout",
     "output_type": "stream",
     "text": [
      "Coeficiente de Variação: 21.98 %\n"
     ]
    }
   ],
   "source": [
    "coeficiente_variacao = (desvio_padrao / media) * 100\n",
    "print(f\"Coeficiente de Variação: {coeficiente_variacao:.2f} %\")"
   ]
  },
  {
   "cell_type": "markdown",
   "id": "9c7f3403-094e-4579-b0ab-4ea485c17b3a",
   "metadata": {},
   "source": [
    "Se a média de consumo de energia no seu condomínio for 149,7 Kwh, um CV de 21.98% sugere que a maioria dos apartamentos têm consumo que varia em torno da média, dentro de um intervalo de cerca de 33 Kwh (21.98% de 149.7 Kwh). Isso implica que, embora haja uma certa variação, a maioria dos apartamentos está consumindo dentro de uma faixa de consumo razoavelmente próxima da média.Por exemplo:O consumo de um apartamento pode estar entre 116.7 Kwh e 182.7 Kwh (considerando um intervalo de uma vez o desvio-padrão para cima e para baixo da média).\n",
    "\n",
    "Ou, mais amplamente, se você considerar dois desvios-padrão (aproximadamente 62 Kwh), o intervalo de consumo esperado para a maioria dos apartamentos seria de 87.7 Kwh a 211.7 Kwh.\n",
    "\n",
    " O que isso significa para a média?\n",
    "O coeficiente de variação não altera a média, mas ajuda a interpretar o quão representativa a média é.Se o coeficiente de variação for baixo (por exemplo, abaixo de 10%), isso indicaria que a média é muito representativa, já que a variabilidade dos dados é pequena em relação à média.\n",
    "\n",
    "Se o coeficiente de variação for alto (por exemplo, acima de 30%), isso indicaria que a média pode não ser tão representativa, pois os dados estão muito dispersos e podem não refletir bem o comportamento típico dos apartamentos.No seu caso, 21.98% é uma variação moderada, o que significa que a média 149.7 Kwh é razoavelmente representativa, mas o consumo de energia entre os apartamentos ainda apresenta uma variação considerável."
   ]
  },
  {
   "cell_type": "markdown",
   "id": "b097bf82-74be-4180-9704-5312c3431c38",
   "metadata": {},
   "source": [
    "Conclusão:\n",
    "O coeficiente de variação de 21.98% sugere que o consumo de energia no condomínio tem uma dispersão moderada em torno da média. Essa variação não é insignificante, mas também não é excessiva. Isso implica que, enquanto a média fornece uma boa ideia do consumo típico de energia, ainda há uma variação razoável entre os apartamentos."
   ]
  },
  {
   "cell_type": "code",
   "execution_count": null,
   "id": "34114253-3196-42d3-bf21-f21ca17afa9b",
   "metadata": {},
   "outputs": [],
   "source": []
  }
 ],
 "metadata": {
  "kernelspec": {
   "display_name": "Python 3 (ipykernel)",
   "language": "python",
   "name": "python3"
  },
  "language_info": {
   "codemirror_mode": {
    "name": "ipython",
    "version": 3
   },
   "file_extension": ".py",
   "mimetype": "text/x-python",
   "name": "python",
   "nbconvert_exporter": "python",
   "pygments_lexer": "ipython3",
   "version": "3.13.0"
  }
 },
 "nbformat": 4,
 "nbformat_minor": 5
}
